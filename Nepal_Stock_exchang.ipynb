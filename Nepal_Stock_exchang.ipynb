{
 "cells": [
  {
   "cell_type": "code",
   "execution_count": 19,
   "metadata": {},
   "outputs": [],
   "source": [
    "import requests\n",
    "from bs4 import BeautifulSoup\n",
    "import pandas as pd\n",
    "import csv\n",
    "main_data = [] # main data to store all the data\n",
    "clean_data = [] # clean data to store all the data after cleaning\n",
    "number_page = int(input(\"Enter the number of pages you want to scrape: \")) # number of pages to scrape\n",
    "# getting the html content of the website\n",
    "for page in range(1, number_page + 1):    # looping through the pages\n",
    "    url = f\"http://nepalstock.com/main/todays_price/index/{page}/ \" # url to scrape\n",
    "    response  = requests.get(url)\n",
    "    soup = BeautifulSoup(response.text, 'lxml')\n",
    "        # getting the table from the html content\n",
    "    data_list = []   # data to store the data\n",
    "    for j in [(i.text) for i in soup.find_all('tr')]:\n",
    "        data_list.append(j.split('\\n')[1:-1])\n",
    "    main_data+=data_list[1:-4]\n",
    "    # for i in soup.find_all('tr'):  # looping through the table\n",
    "    #     data.append(i.text)\n",
    "    #     data_list = []\n",
    "    # for i in data:\n",
    "    #     data_list.append(i.split('\\n')[1:-1])   # getting the data from the table\n",
    "    # main_data = main_data + data_list[1:-4] # adding the data to the main data\n",
    "for item in main_data: # cleaning the data\n",
    "    if item not in clean_data:  # if the item is not in the clean data\n",
    "        clean_data.append(item)\n",
    "correct_data = [] # data to store the correct data\n",
    "for c in range(0,len(clean_data)):  # looping through the clean data\n",
    "    if c == 0:\n",
    "        correct_data.append(clean_data[0])      \n",
    "    else:\n",
    "        correct_data.append(clean_data[c][0:-2])"
   ]
  },
  {
   "cell_type": "code",
   "execution_count": 9,
   "metadata": {},
   "outputs": [],
   "source": [
    "# saving the data to a csv file\n",
    "file = open('nepal_stock.csv', 'w') # opening the file to write\n",
    "x = csv.writer(file)\n",
    "for i in correct_data:\n",
    "    x.writerow(i)\n",
    "file.close()"
   ]
  },
  {
   "cell_type": "code",
   "execution_count": 10,
   "metadata": {},
   "outputs": [
    {
     "data": {
      "text/html": [
       "<div>\n",
       "<style scoped>\n",
       "    .dataframe tbody tr th:only-of-type {\n",
       "        vertical-align: middle;\n",
       "    }\n",
       "\n",
       "    .dataframe tbody tr th {\n",
       "        vertical-align: top;\n",
       "    }\n",
       "\n",
       "    .dataframe thead th {\n",
       "        text-align: right;\n",
       "    }\n",
       "</style>\n",
       "<table border=\"1\" class=\"dataframe\">\n",
       "  <thead>\n",
       "    <tr style=\"text-align: right;\">\n",
       "      <th></th>\n",
       "      <th>S.N.</th>\n",
       "      <th>Traded Companies</th>\n",
       "      <th>No. Of Transaction</th>\n",
       "      <th>Max Price</th>\n",
       "      <th>Min Price</th>\n",
       "      <th>Closing Price</th>\n",
       "      <th>Traded Shares</th>\n",
       "      <th>Amount</th>\n",
       "      <th>Previous Closing</th>\n",
       "      <th>Difference Rs.</th>\n",
       "    </tr>\n",
       "  </thead>\n",
       "  <tbody>\n",
       "    <tr>\n",
       "      <th>0</th>\n",
       "      <td>1</td>\n",
       "      <td>10 % NMB DEBENTURE 2085</td>\n",
       "      <td>1</td>\n",
       "      <td>900.1</td>\n",
       "      <td>900.1</td>\n",
       "      <td>900.1</td>\n",
       "      <td>25.0</td>\n",
       "      <td>22502.5</td>\n",
       "      <td>914.0</td>\n",
       "      <td>-13.90</td>\n",
       "    </tr>\n",
       "    <tr>\n",
       "      <th>1</th>\n",
       "      <td>2</td>\n",
       "      <td>10.25% GLOBAL IME BANK LTD. DEBENTURE 2080/81</td>\n",
       "      <td>4</td>\n",
       "      <td>936.0</td>\n",
       "      <td>935.0</td>\n",
       "      <td>935.0</td>\n",
       "      <td>1300.0</td>\n",
       "      <td>1216000.0</td>\n",
       "      <td>945.0</td>\n",
       "      <td>-10.00</td>\n",
       "    </tr>\n",
       "  </tbody>\n",
       "</table>\n",
       "</div>"
      ],
      "text/plain": [
       "   S.N.                               Traded Companies  No. Of Transaction  \\\n",
       "0     1                        10 % NMB DEBENTURE 2085                   1   \n",
       "1     2  10.25% GLOBAL IME BANK LTD. DEBENTURE 2080/81                   4   \n",
       "\n",
       "   Max Price  Min Price  Closing Price  Traded Shares     Amount  \\\n",
       "0      900.1      900.1          900.1           25.0    22502.5   \n",
       "1      936.0      935.0          935.0         1300.0  1216000.0   \n",
       "\n",
       "   Previous Closing Difference Rs.  \n",
       "0             914.0        -13.90   \n",
       "1             945.0        -10.00   "
      ]
     },
     "execution_count": 10,
     "metadata": {},
     "output_type": "execute_result"
    }
   ],
   "source": [
    "df = pd.read_csv('nepal_stock.csv',encoding=('ISO 8859-1')) # reading the csv file\n",
    "df.head(2)"
   ]
  },
  {
   "cell_type": "code",
   "execution_count": 2,
   "metadata": {},
   "outputs": [],
   "source": [
    "import numpy as np"
   ]
  },
  {
   "cell_type": "code",
   "execution_count": 9,
   "metadata": {},
   "outputs": [],
   "source": [
    "x = np.arange(0,3*np.pi, .1)\n"
   ]
  },
  {
   "cell_type": "code",
   "execution_count": 5,
   "metadata": {},
   "outputs": [
    {
     "name": "stdout",
     "output_type": "stream",
     "text": [
      "1\n",
      "2\n",
      "3\n",
      "4\n",
      "5\n",
      "6\n",
      "7\n",
      "8\n",
      "9\n"
     ]
    }
   ],
   "source": [
    "for j in [(i) for i in range(1,10)]:\n",
    "    print(j)"
   ]
  },
  {
   "cell_type": "code",
   "execution_count": null,
   "metadata": {},
   "outputs": [],
   "source": []
  }
 ],
 "metadata": {
  "kernelspec": {
   "display_name": "Python 3.10.5 64-bit",
   "language": "python",
   "name": "python3"
  },
  "language_info": {
   "codemirror_mode": {
    "name": "ipython",
    "version": 3
   },
   "file_extension": ".py",
   "mimetype": "text/x-python",
   "name": "python",
   "nbconvert_exporter": "python",
   "pygments_lexer": "ipython3",
   "version": "3.10.5"
  },
  "orig_nbformat": 4,
  "vscode": {
   "interpreter": {
    "hash": "916dbcbb3f70747c44a77c7bcd40155683ae19c65e1c03b4aa3499c5328201f1"
   }
  }
 },
 "nbformat": 4,
 "nbformat_minor": 2
}
